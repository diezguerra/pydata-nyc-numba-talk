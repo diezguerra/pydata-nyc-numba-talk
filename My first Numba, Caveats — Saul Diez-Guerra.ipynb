{
 "metadata": {
  "name": ""
 },
 "nbformat": 3,
 "nbformat_minor": 0,
 "worksheets": [
  {
   "cells": [
    {
     "cell_type": "markdown",
     "metadata": {},
     "source": [
      "# My first Numba: Caveats"
     ]
    },
    {
     "cell_type": "code",
     "collapsed": false,
     "input": [
      "from numba import *"
     ],
     "language": "python",
     "metadata": {},
     "outputs": []
    },
    {
     "cell_type": "markdown",
     "metadata": {},
     "source": [
      "## Caveats"
     ]
    },
    {
     "cell_type": "markdown",
     "metadata": {},
     "source": [
      "### It's not always faster (~~one example down~~, one to go)"
     ]
    },
    {
     "cell_type": "code",
     "collapsed": false,
     "input": [
      "def mersenne(N):\n",
      "    seed, period, length = 1, 397, 624\n",
      "    #state = ndarray(shape=(length,), dtype=int)\n",
      "    #state[0] = seed & 0xffffffff\n",
      "    state = [seed & 0xffffffff]\n",
      "    for i in range(1,length):\n",
      "        #state[i] = (0x6c078965 * (state[i-1] ^ (state[i-1] >> 30)) + i) & 0xffffffff\n",
      "        state.append((0x6c078965 * (state[-1] ^ (state[-1] >> 30)) + i) & 0xffffffff)\n",
      "   \n",
      "    #rv = ndarray(shape=(N,), dtype=int)\n",
      "    rv = []\n",
      "    n = 0    \n",
      "    while True:\n",
      "        for i in range(length):\n",
      "            y = (state[i] & 0x80000000) + (state[(i+1)%length] & 0x7fffffff)\n",
      "            state[i] = state[(i+period)%length] ^ (y >> 1)\n",
      "            if y % 2:\n",
      "                state[i] ^= 0x9908b0df\n",
      "                \n",
      "        for i in range(length):            \n",
      "            if n+1 > N:\n",
      "                return rv\n",
      "        \n",
      "            y = state[i]\n",
      "            y ^= y >> 11\n",
      "            y ^= (y << 7) & 0x9d2c5680\n",
      "            y ^= (y << 15) & 0xefc60000\n",
      "            y ^= y >> 18\n",
      "            #rv[n] = y\n",
      "            rv.append(y)\n",
      "            n += 1\n",
      "\n",
      "mersenne2 = autojit(mersenne)\n",
      "mersenne3 = autojit(locals={'y': int32, 'seed': int32, 'index': int32, 'length': int32, 'state': int32[:], 'rv': int32[:]})(mersenne)\n",
      "mersenne4 = jit(\"int32[:](int32)\")(mersenne)\n",
      "\n",
      "%timeit mersenne(1000)\n",
      "%timeit mersenne2(1000)\n",
      "%timeit mersenne3(1000)\n",
      "%timeit mersenne4(1000)"
     ],
     "language": "python",
     "metadata": {},
     "outputs": []
    },
    {
     "cell_type": "markdown",
     "metadata": {},
     "source": [
      "### Custom objects might be slow"
     ]
    },
    {
     "cell_type": "code",
     "collapsed": false,
     "input": [
      "class quadratic(object):\n",
      "    'simple quadratic (polynomial)'\n",
      "    def __init__(self, a, b, c):\n",
      "        self.a, self.b, self.c = a, b, c\n",
      "    def __add__(self, other):\n",
      "        return type(self)(self.a + other.a, self.b + other.b, self.c + other.c)\n",
      "\n",
      "def f(x, y):\n",
      "    return x + y\n",
      "g = autojit(f)\n",
      "\n",
      "# (x+1)(x+1) = x^2 + 2x + 1\n",
      "# (x+1)(x-1) = x^2 - 1\n",
      "x, y = quadratic(1, 2, 1), quadratic(1,0,1)\n",
      "\n",
      "% timeit f(x, y)\n",
      "% timeit g(x, y)"
     ],
     "language": "python",
     "metadata": {},
     "outputs": []
    },
    {
     "cell_type": "markdown",
     "metadata": {},
     "source": [
      "### Error messages are cryptic"
     ]
    },
    {
     "cell_type": "markdown",
     "metadata": {},
     "source": [
      "### No asserts"
     ]
    },
    {
     "cell_type": "code",
     "collapsed": true,
     "input": [
      "@autojit\n",
      "def no_assert():\n",
      "    assert True\n",
      "\n",
      "no_assert()"
     ],
     "language": "python",
     "metadata": {},
     "outputs": []
    },
    {
     "cell_type": "markdown",
     "metadata": {},
     "source": [
      "### ~~No raises~~"
     ]
    },
    {
     "cell_type": "markdown",
     "metadata": {},
     "source": [
      "### No default arguments or named arguments"
     ]
    },
    {
     "cell_type": "code",
     "collapsed": false,
     "input": [
      "@autojit\n",
      "def no_defaults(x=10):\n",
      "    return x\n",
      "\n",
      "no_defaults()"
     ],
     "language": "python",
     "metadata": {},
     "outputs": []
    },
    {
     "cell_type": "code",
     "collapsed": false,
     "input": [
      "@autojit\n",
      "def no_named(x):\n",
      "    return x\n",
      "\n",
      "no_named(x=10)"
     ],
     "language": "python",
     "metadata": {},
     "outputs": []
    },
    {
     "cell_type": "markdown",
     "metadata": {},
     "source": [
      "### No yield"
     ]
    },
    {
     "cell_type": "code",
     "collapsed": false,
     "input": [
      "def no_yield():\n",
      "    yield True\n",
      "\n",
      "numba_no_yield = autojit(no_yield)\n",
      "numba_no_yield()"
     ],
     "language": "python",
     "metadata": {},
     "outputs": []
    },
    {
     "cell_type": "markdown",
     "metadata": {},
     "source": [
      "### No generator expressions"
     ]
    },
    {
     "cell_type": "code",
     "collapsed": false,
     "input": [
      "@autojit\n",
      "def no_genex():\n",
      "    return sum(number for number in range(100))\n",
      "\n",
      "no_genex()"
     ],
     "language": "python",
     "metadata": {},
     "outputs": []
    },
    {
     "cell_type": "markdown",
     "metadata": {},
     "source": [
      "### ~~No list comprehensions~~"
     ]
    },
    {
     "cell_type": "markdown",
     "metadata": {},
     "source": [
      "### No inline sets"
     ]
    },
    {
     "cell_type": "code",
     "collapsed": false,
     "input": [
      "@autojit\n",
      "def no_inlinesets():\n",
      "    return sum({number for number in range(100)})\n",
      "\n",
      "no_inlinesets()"
     ],
     "language": "python",
     "metadata": {},
     "outputs": []
    },
    {
     "cell_type": "markdown",
     "metadata": {},
     "source": [
      "### No dictionary comprehensions"
     ]
    },
    {
     "cell_type": "code",
     "collapsed": false,
     "input": [
      "@autojit\n",
      "def no_dictcomps():\n",
      "    return sum({number: 1 for number in range(100)}.itervalues())\n",
      "\n",
      "no_dictcomps()"
     ],
     "language": "python",
     "metadata": {},
     "outputs": []
    },
    {
     "cell_type": "markdown",
     "metadata": {},
     "source": [
      "### No in"
     ]
    },
    {
     "cell_type": "code",
     "collapsed": false,
     "input": [
      "@autojit\n",
      "def no_in(items):\n",
      "    return True if 1 in items else False\n",
      "\n",
      "no_in(range(3))"
     ],
     "language": "python",
     "metadata": {},
     "outputs": []
    },
    {
     "cell_type": "markdown",
     "metadata": {},
     "source": [
      "### ~~Type overflow~~"
     ]
    },
    {
     "cell_type": "markdown",
     "metadata": {},
     "source": [
      "### No star args"
     ]
    },
    {
     "cell_type": "code",
     "collapsed": false,
     "input": [
      "def f(*args, **kwargs):\n",
      "    return args, kwargs\n",
      "\n",
      "@autojit\n",
      "def g():\n",
      "    return f(*[1, 2, 3], **{'a': 1, 'b': 2})\n",
      "\n",
      "print g()"
     ],
     "language": "python",
     "metadata": {},
     "outputs": []
    },
    {
     "cell_type": "markdown",
     "metadata": {},
     "source": [
      "### No try/excepts"
     ]
    },
    {
     "cell_type": "code",
     "collapsed": false,
     "input": [
      "@autojit\n",
      "def there_is_no_try():\n",
      "    try:\n",
      "        return 0/1\n",
      "    except:\n",
      "        return 0\n",
      "\n",
      "print there_is_no_try()"
     ],
     "language": "python",
     "metadata": {},
     "outputs": []
    },
    {
     "cell_type": "markdown",
     "metadata": {},
     "source": [
      "### No true division even with the import"
     ]
    },
    {
     "cell_type": "code",
     "collapsed": false,
     "input": [
      "from __future__ import division\n",
      "\n",
      "@autojit\n",
      "def no_div(x):\n",
      "    return x / 2\n",
      "\n",
      "assert no_div(5) == 5 / 2"
     ],
     "language": "python",
     "metadata": {},
     "outputs": []
    },
    {
     "cell_type": "markdown",
     "metadata": {},
     "source": [
      "### No local imports"
     ]
    },
    {
     "cell_type": "code",
     "collapsed": false,
     "input": [
      "@autojit\n",
      "def no_div(x):\n",
      "    from operator import div\n",
      "    return div(x, 2)\n",
      "\n",
      "assert no_div(5) == 2"
     ],
     "language": "python",
     "metadata": {},
     "outputs": []
    },
    {
     "cell_type": "markdown",
     "metadata": {},
     "source": [
      "### No lambdas (~~even decorating them!~~)"
     ]
    },
    {
     "cell_type": "code",
     "collapsed": false,
     "input": [
      "@autojit\n",
      "def no_div(x):\n",
      "    @jit\n",
      "    def div(x, y):\n",
      "        return x / y\n",
      "    return div(x, 2)\n",
      "\n",
      "assert no_div(5) == 2"
     ],
     "language": "python",
     "metadata": {},
     "outputs": []
    },
    {
     "cell_type": "markdown",
     "metadata": {},
     "source": [
      "### ~~Unexpected type coercion~~"
     ]
    },
    {
     "cell_type": "markdown",
     "metadata": {},
     "source": [
      "### Inspect module fails"
     ]
    },
    {
     "cell_type": "code",
     "collapsed": false,
     "input": [
      "from inspect import getargspec\n",
      "\n",
      "@autojit\n",
      "def f(x, y, z):\n",
      "    return x, y, z\n",
      "\n",
      "print getargspec(f)"
     ],
     "language": "python",
     "metadata": {},
     "outputs": []
    },
    {
     "cell_type": "markdown",
     "metadata": {},
     "source": [
      "### changes argspec but doesn't modify doc"
     ]
    },
    {
     "cell_type": "code",
     "collapsed": false,
     "input": [
      "@autojit\n",
      "def f(x, y, z):\n",
      "    \"\"\" sums x, y, and z \"\"\"\n",
      "    return x + y + z\n",
      "\n",
      "print f.__module__\n",
      "print help(f)"
     ],
     "language": "python",
     "metadata": {},
     "outputs": []
    },
    {
     "cell_type": "markdown",
     "metadata": {},
     "source": [
      "### No del"
     ]
    },
    {
     "cell_type": "code",
     "collapsed": false,
     "input": [
      "@autojit\n",
      "def no_del(x):\n",
      "    del x[0]\n",
      "    \n",
      "no_del([0, 1, 2])"
     ],
     "language": "python",
     "metadata": {},
     "outputs": []
    },
    {
     "cell_type": "markdown",
     "metadata": {},
     "source": [
      "### No loop unpacking or iteration"
     ]
    },
    {
     "cell_type": "code",
     "collapsed": false,
     "input": [
      "@autojit\n",
      "def f(z):\n",
      "    total = 0\n",
      "    for x, y in z:\n",
      "        total += x*y\n",
      "    return total\n",
      "\n",
      "f([(1,2), (3,4)])"
     ],
     "language": "python",
     "metadata": {},
     "outputs": []
    },
    {
     "cell_type": "markdown",
     "metadata": {},
     "source": [
      "### No class definition or dynamic closures"
     ]
    },
    {
     "cell_type": "code",
     "collapsed": false,
     "input": [
      "@autojit\n",
      "def f():\n",
      "    class x(object):\n",
      "        pass\n",
      "    return x()\n",
      "\n",
      "print f()"
     ],
     "language": "python",
     "metadata": {},
     "outputs": []
    },
    {
     "cell_type": "code",
     "collapsed": false,
     "input": [],
     "language": "python",
     "metadata": {},
     "outputs": []
    }
   ],
   "metadata": {}
  }
 ]
}